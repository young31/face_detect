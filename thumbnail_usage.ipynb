{
 "cells": [
  {
   "cell_type": "code",
   "execution_count": 1,
   "metadata": {},
   "outputs": [],
   "source": [
    "import os\n",
    "from thumbnail import thumbnail\n",
    "\n",
    "base_dir = 'C:/Users/young/Desktop/nn'\n",
    "save_dir = os.path.join(base_dir, 'crop')\n",
    "\n",
    "for fname in os.listdir(base_dir):\n",
    "    target = os.path.join(base_dir, fname)\n",
    "    thumbnail(target,\n",
    "             \"C:/Users/young/Anaconda3/envs/fd/shape_predictor_68_face_landmarks.dat\",\n",
    "             os.path.join(save_dir, fname))"
   ]
  }
 ],
 "metadata": {
  "kernelspec": {
   "display_name": "Python 3",
   "language": "python",
   "name": "python3"
  },
  "language_info": {
   "codemirror_mode": {
    "name": "ipython",
    "version": 3
   },
   "file_extension": ".py",
   "mimetype": "text/x-python",
   "name": "python",
   "nbconvert_exporter": "python",
   "pygments_lexer": "ipython3",
   "version": "3.6.8"
  },
  "toc": {
   "base_numbering": 1,
   "nav_menu": {},
   "number_sections": true,
   "sideBar": true,
   "skip_h1_title": false,
   "title_cell": "Table of Contents",
   "title_sidebar": "Contents",
   "toc_cell": false,
   "toc_position": {},
   "toc_section_display": true,
   "toc_window_display": false
  }
 },
 "nbformat": 4,
 "nbformat_minor": 2
}
